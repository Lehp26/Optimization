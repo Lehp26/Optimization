{
 "cells": [
  {
   "attachments": {},
   "cell_type": "markdown",
   "metadata": {},
   "source": [
    "# Forward Accumulation\n",
    "\n",
    "The forward accumulation method is method that performs automatic differentiation through the use of a *computational graph*. Computational graphs are useful because can represent functions in a visual way where the nodes are the operations apply to an input or constant, and the nodes are the inputs.\n",
    "\n",
    "Forward accumulation passing through the computational graph only once, it's like apply the chain rule iteratively in each operation. When perform an operation, in fact we are evaluating the function. In order to use the chain rule in each operation we also need to compute the derivative in that point, by using **dual numbers** the algorithm can compute the function and derivative in the same operation.\n",
    "\n",
    "A *dual number* is expressed as $a + b\\epsilon$, where $a, b \\in \\mathbb{R}$, and $\\epsilon$ is an abstract quantity that has the property of $\\epsilon^2 = 0$. The sum and multiplication between two dual numbers is defines as follows:\n",
    "\n",
    "$$\n",
    "(a + b\\epsilon) + (c + d\\epsilon) = (a + c) + (b + d)\\epsilon\n",
    "$$\n",
    "$$\n",
    "(a + b\\epsilon) \\times (c + d\\epsilon) = ac + ad\\epsilon  + bc\\epsilon + bd\\epsilon^2 = (ac) + (ad + bc)\\epsilon\n",
    "$$\n",
    "\n",
    "An interesting property of dual numbers is that we can get the evaluation and derivative $f(a)$ and $f'(a)$ respectively of a smooth function $f$  if we evaluate $f$ at $a + b\\epsilon$, this can be proved using the Taylor series:\n",
    "\n",
    "$$f(x) = \\sum_{n = 0}^{\\infty} \\frac{f^{(n)}(a)}{n!}(x-a)^n$$\n",
    "\n",
    "If we define $x = a + b\\epsilon$:\n",
    "\n",
    "$$\n",
    "f(x) = f(a + b\\epsilon) = \\sum_{n = 0}^{\\infty} \\frac{f^{(n)}(a)}{n!}( a + b\\epsilon - a)^n\n",
    "$$\n",
    "$$\n",
    "f(a + b\\epsilon) = \\sum_{n = 0}^{\\infty} \\frac{f^{(n)}(a)}{n!}(b\\epsilon)^n\n",
    "$$\n",
    "$$\n",
    "f(a + b\\epsilon) = f(a) + bf'(a)\\epsilon + \\sum_{n = 2}^{\\infty} \\frac{f^{(n)}(a)}{n!}(b\\epsilon)^n\n",
    "$$\n",
    "Given that $\\epsilon^2 = 0$\n",
    "$$\n",
    "\\sum_{n = 2}^{\\infty} \\frac{f^{(n)}(a)}{n!}(b\\epsilon)^n = \\epsilon^2 \\sum_{n = 2}^{\\infty} \\frac{f^{(n)}(a)}{n!} b^n \\epsilon^{n-2} = 0\n",
    "$$\n",
    "\n",
    "We obtain the expression shown below:\n",
    "$$\n",
    "f(a + b\\epsilon) = f(a) + bf'(a)\\epsilon\n",
    "$$\n",
    "\n",
    "If $b = 1$, then:\n",
    "\n",
    "$$f(a + \\epsilon) = f(a) + f'(a)\\epsilon$$"
   ]
  },
  {
   "attachments": {},
   "cell_type": "markdown",
   "metadata": {},
   "source": [
    "## Implementing dual numbers in Julia\n",
    "\n",
    "In **Julia** we can use the keyword `struct` to define a structure and perform operations with Dual numbers:"
   ]
  },
  {
   "cell_type": "code",
   "execution_count": 1,
   "metadata": {},
   "outputs": [],
   "source": [
    "struct Dual\n",
    "    α::Float64\n",
    "    β::Float64\n",
    "end"
   ]
  },
  {
   "attachments": {},
   "cell_type": "markdown",
   "metadata": {},
   "source": [
    "By using `Base.:`, **Julia** allow us to overload some operators:"
   ]
  },
  {
   "cell_type": "code",
   "execution_count": 2,
   "metadata": {},
   "outputs": [],
   "source": [
    "# Define the '+' operator for dual numbers\n",
    "Base.:+(x::Dual, y::Dual) = Dual(x.α + y.α, x.β + y.β)\n",
    "# Define the '*' operator for dual numbers\n",
    "Base.:*(x::Dual, y::Dual) = Dual(x.α*y.α, x.α*y.β + x.β*y.α)\n",
    "# Define the '*' operator for multiplication between float and  Dual number\n",
    "Base.:*(a::Float64, x::Dual) = Dual(a*x.α, a*x.β)"
   ]
  },
  {
   "attachments": {},
   "cell_type": "markdown",
   "metadata": {},
   "source": [
    "## Mathematical functions with dual numbers\n",
    "\n",
    "It is necessary define the mathematical functions for dual numbers, some popular functions are implemented below using the fact that $f(a + b\\epsilon) = f(a) + bf'(a)\\epsilon$.\n",
    "\n",
    "### $\\ln{x}$\n",
    "\n",
    "For natural logarithmic $f(x) = \\ln{x}$ and $f'(x) = \\frac{1}{x}$:\n",
    "\n",
    "$$\n",
    "ln(a + b\\epsilon) = ln(a) + \\frac{b}{a}\\epsilon\n",
    "$$\n",
    "\n",
    "### $\\cos{x}$\n",
    "\n",
    "For cosine  $f(x) = \\cos{x}$ and $f'(x) = -\\sin{x}$:\n",
    "\n",
    "$$\n",
    "\\cos{(a + b\\epsilon)} = \\cos{a} - b\\epsilon\\sin{a}\n",
    "$$\n",
    "\n",
    "### $\\sin{x}$\n",
    "\n",
    "For sine  $f(x) = \\sin{x}$ and $f'(x) = \\cos{x}$:\n",
    "\n",
    "$$\n",
    "\\sin{(a + b\\epsilon)} = \\sin{a} + b\\epsilon\\cos{a}\n",
    "$$\n",
    "\n",
    "### $x^n$\n",
    "\n",
    "Here $f(x) = x^n$ and $f'(x) = nx^{n-1}$:\n",
    "\n",
    "$$\n",
    "(a + b\\epsilon)^n = a^n + bn(a)^{n-1}\\epsilon\n",
    "$$\n"
   ]
  },
  {
   "cell_type": "code",
   "execution_count": 3,
   "metadata": {},
   "outputs": [
    {
     "data": {
      "text/plain": [
       "power (generic function with 1 method)"
      ]
     },
     "metadata": {},
     "output_type": "display_data"
    }
   ],
   "source": [
    "# Define log() for Dual numbers\n",
    "Base.log(x::Dual) = Dual(log(x.α), x.β/x.α)\n",
    "# Define cos() for Dual numbers\n",
    "Base.cos(x::Dual) = Dual(cos(x.α), -x.β*sin(x.α))\n",
    "# Define sin() for Dual numbers\n",
    "Base.sin(x::Dual) = Dual(sin(x.α), x.β*cos(x.α))\n",
    "# Define power(x, n) for Dual numbers\n",
    "power(x::Dual, n) = n != 0 ? Dual(x.α^n, x.β*n*(x.α^(n-1))) : Dual(1.0, 0.0)"
   ]
  },
  {
   "attachments": {},
   "cell_type": "markdown",
   "metadata": {},
   "source": [
    "Let's evaluate the function and compute the derivative:\n",
    "\n",
    "For $f(x) = 2x^3$ at $x=2$:\n",
    "\n",
    "$$\n",
    "f(2) = 16\n",
    "$$\n",
    "$$\n",
    "f'(x) = 6x^2 \\, , \\,\n",
    "f'(2) = 24\n",
    "$$\n",
    "\n",
    "Defining $x = 2 + \\epsilon$:"
   ]
  },
  {
   "cell_type": "code",
   "execution_count": 4,
   "metadata": {},
   "outputs": [
    {
     "data": {
      "text/plain": [
       "(16, 24)"
      ]
     },
     "metadata": {},
     "output_type": "display_data"
    }
   ],
   "source": [
    "x = 2\n",
    "\n",
    "2x^3, 6x^2"
   ]
  },
  {
   "cell_type": "code",
   "execution_count": 5,
   "metadata": {},
   "outputs": [
    {
     "data": {
      "text/plain": [
       "Dual(16.0, 24.0)"
      ]
     },
     "metadata": {},
     "output_type": "display_data"
    }
   ],
   "source": [
    "x = Dual(2.0, 1.0)\n",
    "\n",
    "2.0power(x, 3.0)"
   ]
  },
  {
   "attachments": {},
   "cell_type": "markdown",
   "metadata": {},
   "source": [
    "For $f(x) = \\sin{3x}$ at $x=\\pi/4$:\n",
    "\n",
    "$$\n",
    "f(\\pi/4) = 0.707106\n",
    "$$\n",
    "$$\n",
    "f'(x) = 3\\cos{3x} \\, , \\,\n",
    "f'(\\pi/4) = -2.12132\n",
    "$$\n",
    "\n",
    "Defining $x = \\pi/4 + \\epsilon$:"
   ]
  },
  {
   "cell_type": "code",
   "execution_count": 6,
   "metadata": {},
   "outputs": [
    {
     "data": {
      "text/plain": [
       "(0.7071067811865476, -2.1213203435596424)"
      ]
     },
     "metadata": {},
     "output_type": "display_data"
    }
   ],
   "source": [
    "x = π/4\n",
    "\n",
    "sin(3x), 3cos(3x)"
   ]
  },
  {
   "cell_type": "code",
   "execution_count": 7,
   "metadata": {},
   "outputs": [
    {
     "data": {
      "text/plain": [
       "Dual(0.7071067811865476, -2.1213203435596424)"
      ]
     },
     "metadata": {},
     "output_type": "display_data"
    }
   ],
   "source": [
    "x = Dual(π/4, 1)\n",
    "\n",
    "sin(3.0x)"
   ]
  },
  {
   "attachments": {},
   "cell_type": "markdown",
   "metadata": {},
   "source": [
    "Now let's draw a computational graph and use forward accumulation to compute $\\partial f / \\partial y$ at $(x, y) = (\\pi/6, \\pi/3)$, where $f(x, y) = \\sin{(x + y^3)}$:\n",
    "\n",
    "![Computational graph](Images/ComputationalGraph.png)\n",
    "\n"
   ]
  },
  {
   "cell_type": "code",
   "execution_count": 8,
   "metadata": {},
   "outputs": [
    {
     "data": {
      "text/plain": [
       "Dual(0.994885359398551, -0.33231123398036866)"
      ]
     },
     "metadata": {},
     "output_type": "display_data"
    }
   ],
   "source": [
    "X = Dual(π/6, 0.0)\n",
    "Y = Dual(π/3, 1.0)\n",
    "\n",
    "sin(X + power(Y, 3.0))"
   ]
  },
  {
   "attachments": {},
   "cell_type": "markdown",
   "metadata": {},
   "source": [
    "These values are equal that those which are obtained by computing directly $\\frac{\\partial f}{\\partial y}$:\n",
    "\n",
    "$$\n",
    "\\frac{\\partial f}{\\partial y} = 3y^2cos(x + y^3)\n",
    "$$\n",
    "\n",
    "$$\n",
    "\\frac{\\partial f}{\\partial y}(\\pi/6, \\pi/3) = -0.332311\n",
    "$$"
   ]
  },
  {
   "cell_type": "code",
   "execution_count": 9,
   "metadata": {},
   "outputs": [
    {
     "data": {
      "text/plain": [
       "-0.33231123398036866"
      ]
     },
     "metadata": {},
     "output_type": "display_data"
    }
   ],
   "source": [
    "3*(π/3)^2*cos(π/6 + (π/3)^3)"
   ]
  }
 ],
 "metadata": {
  "kernelspec": {
   "display_name": "Julia 1.9.0",
   "language": "julia",
   "name": "julia-1.9"
  },
  "language_info": {
   "file_extension": ".jl",
   "mimetype": "application/julia",
   "name": "julia",
   "version": "1.9.0"
  },
  "orig_nbformat": 4
 },
 "nbformat": 4,
 "nbformat_minor": 2
}
