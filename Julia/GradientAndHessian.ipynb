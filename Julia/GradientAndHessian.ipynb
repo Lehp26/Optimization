{
 "cells": [
  {
   "attachments": {},
   "cell_type": "markdown",
   "metadata": {},
   "source": [
    "# Gradient and Hessian using forward difference method\n",
    "\n",
    "In this notebook, we will demonstrate how to numerically compute the gradient and Hessian of a function in **Julia** using forward difference method."
   ]
  },
  {
   "attachments": {},
   "cell_type": "markdown",
   "metadata": {},
   "source": [
    "The *forward difference method* approximates the derivative definitions using a small step $h$:\n",
    "\n",
    "$$\n",
    "f'(x) \\approx \\frac{f(x + h) - f(x)}{h}\n",
    "$$\n",
    "\n",
    "For a function $f: \\mathbb{R^n} \\rightarrow \\mathbb{R}$ where $X = [x_1, x_2, \\cdots, x_n]^T$ the partial derivative of $f(X)$ with respect to $x_i$ is defined using forward difference method as follows:\n",
    "\n",
    "$$\n",
    "\\frac{\\partial f(X)}{\\partial x_i} \\approx \\frac{f(X + he_i) - f(X)}{h}\n",
    "$$\n",
    "\n",
    "Where $e_i$ represents an n-dimensional vector consisting of all zeros, except for the $i$ th component, which is equal to 1."
   ]
  },
  {
   "attachments": {},
   "cell_type": "markdown",
   "metadata": {},
   "source": [
    "Let's define $f(X) = x_1 \\cos{(x_2x_3)} + x_2e^{x_3}$ where the partial derivatives are showed below:\n",
    "\n",
    "$$\n",
    "\\begin{align*}\n",
    "\\frac{\\partial f}{\\partial x_1} &= \\cos{(x_2x_3)} \\\\\n",
    "\\frac{\\partial f}{\\partial x_2} &= -x_1x_3 \\sin{(x_2x_3)} + e^{x_3} \\\\\n",
    "\\frac{\\partial f}{\\partial x_3} &= -x_1x_2 \\sin{(x_2x_3)} + x_2e^{x_3} \\\\\n",
    "\\end{align*}\n",
    "$$\n",
    "\n",
    "If we evalute at $X = [1, \\pi/2, \\pi/2]$:\n",
    "\n",
    "$$\n",
    "\\begin{align*}\n",
    "\\frac{\\partial f}{\\partial x_1} &\\approx -0.781211\\\\\n",
    "\\frac{\\partial f}{\\partial x_2} &\\approx 3.82988 \\\\\n",
    "\\frac{\\partial f}{\\partial x_3} &\\approx 6.57568  \\\\\n",
    "\\end{align*}\n",
    "$$"
   ]
  },
  {
   "attachments": {},
   "cell_type": "markdown",
   "metadata": {},
   "source": [
    "To start, let's create the function to be derivated and a forward difference method:"
   ]
  },
  {
   "cell_type": "code",
   "execution_count": 1,
   "metadata": {},
   "outputs": [
    {
     "data": {
      "text/plain": [
       "f (generic function with 1 method)"
      ]
     },
     "metadata": {},
     "output_type": "display_data"
    }
   ],
   "source": [
    "f(X) = X[1]cos(X[2]X[3]) + X[2]ℯ^(X[3])"
   ]
  },
  {
   "cell_type": "code",
   "execution_count": 2,
   "metadata": {},
   "outputs": [
    {
     "data": {
      "text/plain": [
       "forward_diff (generic function with 2 methods)"
      ]
     },
     "metadata": {},
     "output_type": "display_data"
    }
   ],
   "source": [
    "function forward_diff(f, X, i, h=sqrt(eps(Float64)))\n",
    "\n",
    "    # Define the e_i vector\n",
    "    ei = zeros(length(X))\n",
    "    ei[i] = 1\n",
    "\n",
    "    # Compute the partial derivative with respect to x_i\n",
    "    ∂f = (f(X + h*ei) - f(X)) / h\n",
    "\n",
    "    return ∂f\n",
    "end"
   ]
  },
  {
   "attachments": {},
   "cell_type": "markdown",
   "metadata": {},
   "source": [
    "Now let's compute the derivatives:"
   ]
  },
  {
   "cell_type": "code",
   "execution_count": 3,
   "metadata": {},
   "outputs": [
    {
     "data": {
      "text/plain": [
       "(-0.7812118530273438, 3.8298827409744263, 6.575685679912567)"
      ]
     },
     "metadata": {},
     "output_type": "display_data"
    }
   ],
   "source": [
    "X = [1, π/2, π/2]\n",
    "\n",
    "forward_diff(f, X, 1), forward_diff(f, X, 2), forward_diff(f, X, 3)"
   ]
  },
  {
   "attachments": {},
   "cell_type": "markdown",
   "metadata": {},
   "source": [
    "We obtained identical values to those obtained using the analytical expressions:"
   ]
  },
  {
   "cell_type": "code",
   "execution_count": 4,
   "metadata": {},
   "outputs": [
    {
     "data": {
      "text/plain": [
       "(-0.7812118921104881, 3.829882715615795, 6.575685534800751)"
      ]
     },
     "metadata": {},
     "output_type": "display_data"
    }
   ],
   "source": [
    "cos(π^2/4), (-1*π/2)sin(π^2/4) + ℯ^(π/2), (-1*π/2)sin(π^2/4) + (π/2)ℯ^(π/2)"
   ]
  },
  {
   "attachments": {},
   "cell_type": "markdown",
   "metadata": {},
   "source": [
    "In fact, given that the gradient of a functions $f(X)$ is defined as:\n",
    "\n",
    "$$\n",
    "\\nabla f(X) = \\left[\\frac{\\partial f}{\\partial x_1}, \\frac{\\partial f}{\\partial x_2}, \\cdots, \\frac{\\partial f}{\\partial x_n}\\right]^T\n",
    "$$\n",
    "\n",
    "We can compute the gradient, with **gradient_forward()** function that uses *forward difference method* to compute the derivatives:"
   ]
  },
  {
   "cell_type": "code",
   "execution_count": 5,
   "metadata": {},
   "outputs": [
    {
     "data": {
      "text/plain": [
       "gradient_forward (generic function with 1 method)"
      ]
     },
     "metadata": {},
     "output_type": "display_data"
    }
   ],
   "source": [
    "function gradient_forward(f, X; h=sqrt(eps(Float64)))\n",
    "\n",
    "    # Define the gradient with all zeros\n",
    "    ∇f = zeros(length(X))\n",
    "\n",
    "    for i = 1:length(X)\n",
    "        ∇f[i] = forward_diff(f, X, i, h)\n",
    "    end\n",
    "\n",
    "    return ∇f\n",
    "end"
   ]
  },
  {
   "cell_type": "code",
   "execution_count": 6,
   "metadata": {},
   "outputs": [
    {
     "data": {
      "text/plain": [
       "3-element Vector{Float64}:\n",
       " -0.7812118530273438\n",
       "  3.8298827409744263\n",
       "  6.575685679912567"
      ]
     },
     "metadata": {},
     "output_type": "display_data"
    }
   ],
   "source": [
    "α = gradient_forward(f, X)\n",
    "\n",
    "α"
   ]
  },
  {
   "attachments": {},
   "cell_type": "markdown",
   "metadata": {},
   "source": [
    "The *Hessian* of a multivariate function is a matrix containing all of the second derivatives with respect to the input. The second derivatives capture information about the local curvature of the function.\n",
    "\n",
    "$$\n",
    "\\nabla^2 f(x) = \n",
    "\\begin{pmatrix}\n",
    "\\frac{\\partial^2 f(x)}{\\partial x_1 \\partial x_1} & \\frac{\\partial^2 f(x)}{\\partial x_1 \\partial x_2} & \\cdots & \\frac{\\partial^2 f(x)}{\\partial x_1 \\partial x_n} \\\\\n",
    "\\vdots & \\vdots &  & \\vdots \\\\\n",
    "\\frac{\\partial^2 f(x)}{\\partial x_n \\partial x_1} & \\frac{\\partial^2 f(x)}{\\partial x_n \\partial x_2} & \\cdots & \\frac{\\partial^2 f(x)}{\\partial x_n \\partial x_n} \\\\\n",
    "\\end{pmatrix}\n",
    "$$"
   ]
  },
  {
   "attachments": {},
   "cell_type": "markdown",
   "metadata": {},
   "source": [
    "In order to approximate the Hessian Matrix, we can approximate $H_{ij} = \\frac{\\partial^2 f}{\\partial x_ix_j}$ using forward difference. If we define $u_j = \\frac{\\partial f}{\\partial x_j}$ then we can approximate $\\frac{\\partial u_j}{\\partial x_i}$:\n",
    "\n",
    "$$\n",
    "\\frac{\\partial u_j}{\\partial x_i} = \\frac{u_j(X + he_i) - u_j(X)}{h}\n",
    "$$\n",
    "\n",
    "Approximating $u_j$ with the forward difference method again\n",
    "\n",
    "$$\n",
    "u_j = \\frac{\\partial f}{\\partial x_j} = \\frac{f(X + he_j) - f(X)}{h}\n",
    "$$\n",
    "\n",
    "Then, evaluating at $X + he_i$ and $X$:\n",
    "\n",
    "$$\n",
    "u_j(X + he_i) = \\frac{f(X + he_i + he_j) - f(X + he_i)}{h}\n",
    "$$\n",
    "$$\n",
    "u_j(X) = \\frac{f(X  + he_j) - f(X)}{h}\n",
    "$$\n",
    "\n",
    "Using these values we obtain:\n",
    "$$\n",
    "\\frac{\\partial u_j}{\\partial x_i} = \\frac{\\frac{f(X + he_i + he_j) - f(X + he_i)}{h} - \\frac{f(X  + he_j) - f(X)}{h}}{h}\n",
    "$$\n",
    "\n",
    "Given that $u_j = \\frac{\\partial f}{\\partial x_j}$, then $\\frac{\\partial u_j}{\\partial x_i} = \\frac{\\partial^2 f}{\\partial x_i \\partial x_j}$. Hence, the final expression is presented:\n",
    "\n",
    "$$\n",
    "    H_{ij} = \\frac{\\partial^2 f}{\\partial x_i \\partial x_j} = \\frac{f(X + he_i + he_j) - f(X + he_i) - f(X + he_j) + f(X)}{h^2}\n",
    "$$"
   ]
  },
  {
   "attachments": {},
   "cell_type": "markdown",
   "metadata": {},
   "source": [
    "Now, we are going to create a function to compute the Hessian given a point $X$ using the forward difference method, first we need a function to compute the partial derivatives:"
   ]
  },
  {
   "cell_type": "code",
   "execution_count": 7,
   "metadata": {},
   "outputs": [
    {
     "data": {
      "text/plain": [
       "partial_forward (generic function with 1 method)"
      ]
     },
     "metadata": {},
     "output_type": "display_data"
    }
   ],
   "source": [
    "# This function takes a vector X where the partial derivative is computed.\n",
    "# i and j are subindices to compute ∂/∂x_i (∂f/∂x_j)\n",
    "function partial_forward(f, X, i, j; h=1e-5)\n",
    "\n",
    "    # Create e_i and e_j\n",
    "    ei = zeros(length(X))\n",
    "    ej = zeros(length(X))\n",
    "\n",
    "    # Add non-zero component\n",
    "    ei[i] = 1\n",
    "    ej[j] = 1\n",
    "\n",
    "    # Compute ∂^2f / ∂x_i ∂x_j\n",
    "    ∂f2 =(f(X +  h*ei + h*ej) - f(X + h*ei) - f(X + h*ej) + f(X)) / (h^2)\n",
    "\n",
    "    return ∂f2\n",
    "end"
   ]
  },
  {
   "cell_type": "code",
   "execution_count": 8,
   "metadata": {},
   "outputs": [
    {
     "data": {
      "text/plain": [
       "hessian_forward (generic function with 2 methods)"
      ]
     },
     "metadata": {},
     "output_type": "display_data"
    }
   ],
   "source": [
    "# Compute the Hessian of f at given X, ∇^2f(X)\n",
    "function hessian_forward(F, X, h=1e-5)\n",
    "\n",
    "    H = [partial_forward(f, X, i, j, h=h) for i=1:length(X), j=1:length(X)]\n",
    "\n",
    "    return H\n",
    "end"
   ]
  },
  {
   "attachments": {},
   "cell_type": "markdown",
   "metadata": {},
   "source": [
    "The terms of the Hessian matrix for $f(X) = x_1\\cos{(x_2x_3)} + x_2e^{x_3}$ are displayed below:\n",
    "\n",
    "$$\n",
    "H_{1,1} = 0 \\, , \\, H_{1,2} = -x_3\\sin{(x_2x_3)} \\, , \\, H_{1,3} = -x_2\\sin{(x_2x_3)}\n",
    "$$\n",
    "$$\n",
    "H_{2, 1} = -x_3 \\sin{(x_2x_3)} \\, , \\, H_{2,2} = -x_1x_3^2\\cos{(x_2x_3)} \\, , \\, H_{2,3} = -x_1[x_2x_3\\cos{(x_2x_3)} + \\sin{(x_2x_3)}] + e^{x_3}\n",
    "$$\n",
    "$$\n",
    "H_{3, 1} = -x_2\\sin{(x_2x_3)} \\, , \\, H_{3, 2} = -x_1[x_2x_3\\cos{(x_2x_3)} + \\sin{(x_2x_3)}] + e^{x_3} \\, , \\, H_{3,3} = -x_1x_2^2\\cos{(x_2x_3)} + x_2e^{x_3}\n",
    "$$\n",
    "\n",
    "Evaluated at the point $X = [1, \\frac{\\pi}{2}, \\frac{\\pi}{2}]$ the hessian is:"
   ]
  },
  {
   "attachments": {},
   "cell_type": "markdown",
   "metadata": {},
   "source": [
    "\n",
    "$$\n",
    "\\nabla^2 f(x) = \n",
    "\\begin{pmatrix}\n",
    "0 & -0.98059 & -0.98059 \\\\\n",
    "-0.98059 & 1.92756 & 6.11377 \\\\\n",
    "-0.98059  & 6.11377 & 9.48384\n",
    "\\end{pmatrix}\n",
    "$$"
   ]
  },
  {
   "attachments": {},
   "cell_type": "markdown",
   "metadata": {},
   "source": [
    "Then we can compute the Hessian of any n-dimensional funcion given a point $X = [x_1, x_2, \\cdots, x_n]^T$"
   ]
  },
  {
   "cell_type": "code",
   "execution_count": 18,
   "metadata": {},
   "outputs": [
    {
     "data": {
      "text/plain": [
       "3×3 Matrix{Float64}:\n",
       "  0.0       -0.980498  -0.980498\n",
       " -0.980498   1.92781    6.1145\n",
       " -0.980498   6.1145     9.48484"
      ]
     },
     "metadata": {},
     "output_type": "display_data"
    }
   ],
   "source": [
    "Hessian_forward = hessian_forward(f, X, 1e-4)"
   ]
  },
  {
   "attachments": {},
   "cell_type": "markdown",
   "metadata": {},
   "source": [
    "These values are identical that if we compute then using the analytical functions:"
   ]
  },
  {
   "attachments": {},
   "cell_type": "markdown",
   "metadata": {},
   "source": [
    "Each term of the Hessian for $f(X) = x_1\\cos{(x_2x_3)} + x_2e^{x_3}$ is showed:\n",
    "\n",
    "$$\n",
    "H_{1,1} = 0 \\, , \\, H_{1,2} = -x_3\\sin{(x_2x_3)} \\, , \\, H_{1,3} = -x_2\\sin{(x_2x_3)}\n",
    "$$\n",
    "$$\n",
    "H_{2, 1} = -x_3 \\sin{(x_2x_3)} \\, , \\, H_{2,2} = -x_1x_3^2\\cos{(x_2x_3)} \\, , \\, H_{2,3} = -x_1[x_2x_3\\cos{(x_2x_3)} + \\sin{(x_2x_3)}] + e^{x_3}\n",
    "$$\n",
    "$$\n",
    "H_{3, 1} = -x_2\\sin{(x_2x_3)} \\, , \\, H_{3, 2} = -x_1[x_2x_3\\cos{(x_2x_3)} + \\sin{(x_2x_3)}] + e^{x_3} \\, , \\, H_{3,3} = -x_1x_2^2\\cos{(x_2x_3)} + x_2e^{x_3}\n",
    "$$\n",
    "\n",
    "Evaluated at the point $X = [1, \\frac{\\pi}{2}, \\frac{\\pi}{2}]$ the hessian is:"
   ]
  },
  {
   "cell_type": "code",
   "execution_count": 11,
   "metadata": {},
   "outputs": [
    {
     "data": {
      "text/plain": [
       "3×3 Matrix{Float64}:\n",
       "  0.0       -0.980595  -0.980595\n",
       " -0.980595   1.92756    6.11377\n",
       " -0.980595   6.11377    9.48384"
      ]
     },
     "metadata": {},
     "output_type": "display_data"
    }
   ],
   "source": [
    "h11 = 0\n",
    "h12 = -X[3]sin(X[2]X[3])\n",
    "h13 = -X[2]sin(X[2]X[3])\n",
    "\n",
    "h21 = -X[3]sin(X[2]X[3])\n",
    "h22 = -X[1]*(X[3]^2)cos(X[2]X[3])\n",
    "h23 = -X[1]*(X[2]X[3]cos(X[2]X[3]) + sin(X[2]X[3])) + ℯ^X[3]\n",
    "\n",
    "h31 = -X[2]sin(X[2]X[3])\n",
    "h32 = -X[1]*(X[2]X[3]cos(X[2]X[3]) + sin(X[2]X[3])) + ℯ^(X[3])\n",
    "h33 = -X[1]*(X[2]^2)cos(X[2]X[3]) + X[2]ℯ^X[3]\n",
    "\n",
    "Hessian = [h11 h12 h13; h21 h22 h23; h31 h32 h33]"
   ]
  },
  {
   "attachments": {},
   "cell_type": "markdown",
   "metadata": {},
   "source": [
    "To the eigenvalues of the Hessian matrix $\\lambda_1, \\lambda_2, \\cdots, \\lambda_n$, we can utilize the **eigvals()** function from `LinearAlgebra.jl` package. These eigenvalues are highly valuable in optimization tasks."
   ]
  },
  {
   "cell_type": "code",
   "execution_count": 19,
   "metadata": {},
   "outputs": [
    {
     "data": {
      "text/plain": [
       "3-element Vector{Float64}:\n",
       " -1.5799902691005632\n",
       " -0.03811980869608502\n",
       " 13.030755928380307"
      ]
     },
     "metadata": {},
     "output_type": "display_data"
    }
   ],
   "source": [
    "using LinearAlgebra\n",
    "\n",
    "eigvals(Hessian_forward)"
   ]
  }
 ],
 "metadata": {
  "kernelspec": {
   "display_name": "Julia 1.9.0",
   "language": "julia",
   "name": "julia-1.9"
  },
  "language_info": {
   "file_extension": ".jl",
   "mimetype": "application/julia",
   "name": "julia",
   "version": "1.9.0"
  },
  "orig_nbformat": 4
 },
 "nbformat": 4,
 "nbformat_minor": 2
}
